{
 "cells": [
  {
   "cell_type": "markdown",
   "metadata": {},
   "source": [
    " \\begin{eqnarray}    \n",
    " p(x)=\\left\\{\n",
    " \\begin{array}{ll}\n",
    " \\lambda ^2x {\\rm exp}(-\\lambda x),&x>0, \\\\\n",
    " 0,&x\\leq 0.\n",
    " \\end{array} \\right.\n",
    " \\end{eqnarray}    "
   ]
  },
  {
   "cell_type": "markdown",
   "metadata": {},
   "source": [
    "\\begin{equation}\n",
    "f(x) = ax^2 + bx + c \\tag{1.2.3}\n",
    "\\end{equation}"
   ]
  },
  {
   "cell_type": "markdown",
   "metadata": {},
   "source": [
    "\\begin{eqnarray}\n",
    "x+y&=&4 \\\\\n",
    "x+2y&=&10\n",
    "\\end{eqnarray}"
   ]
  },
  {
   "cell_type": "markdown",
   "metadata": {},
   "source": [
    "\\begin{eqnarray}\n",
    "\\left\\{\n",
    "\\begin{array}{l}\n",
    "x+y&=&4  \\\\\n",
    "x+2y&=&10\n",
    "\\end{array}\n",
    "\\right.\n",
    "\\end{eqnarray}"
   ]
  },
  {
   "cell_type": "code",
   "execution_count": null,
   "metadata": {},
   "outputs": [],
   "source": []
  }
 ],
 "metadata": {
  "kernelspec": {
   "display_name": "Python 3",
   "language": "python",
   "name": "python3"
  },
  "language_info": {
   "codemirror_mode": {
    "name": "ipython",
    "version": 3
   },
   "file_extension": ".py",
   "mimetype": "text/x-python",
   "name": "python",
   "nbconvert_exporter": "python",
   "pygments_lexer": "ipython3",
   "version": "3.6.5"
  }
 },
 "nbformat": 4,
 "nbformat_minor": 2
}
