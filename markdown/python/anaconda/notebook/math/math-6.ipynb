{
 "cells": [
  {
   "cell_type": "code",
   "execution_count": 3,
   "metadata": {},
   "outputs": [],
   "source": [
    "from sympy import *"
   ]
  },
  {
   "cell_type": "code",
   "execution_count": 5,
   "metadata": {},
   "outputs": [],
   "source": [
    "init_printing()"
   ]
  },
  {
   "cell_type": "code",
   "execution_count": 7,
   "metadata": {},
   "outputs": [],
   "source": [
    "x = Symbol('x')"
   ]
  },
  {
   "cell_type": "code",
   "execution_count": 8,
   "metadata": {},
   "outputs": [],
   "source": [
    "a = Symbol('a')"
   ]
  },
  {
   "cell_type": "code",
   "execution_count": 18,
   "metadata": {},
   "outputs": [],
   "source": [
    "f0 = x ** 2 + (a ** 2 + a) * x + a -1"
   ]
  },
  {
   "cell_type": "code",
   "execution_count": 30,
   "metadata": {},
   "outputs": [],
   "source": [
    "f1 = x + 3"
   ]
  },
  {
   "cell_type": "code",
   "execution_count": 31,
   "metadata": {},
   "outputs": [
    {
     "data": {
      "image/png": "[encoded data removed]",
      "text/latex": [
       "$$\\left [ \\left ( -3, \\quad -2\\right ), \\quad \\left ( -3, \\quad \\frac{4}{3}\\right )\\right ]$$"
      ],
      "text/plain": [
       "[(-3, -2), (-3, 4/3)]"
      ]
     },
     "execution_count": 31,
     "metadata": {},
     "output_type": "execute_result"
    }
   ],
   "source": [
    "solve([f0, f1], [x, a])"
   ]
  },
  {
   "cell_type": "markdown",
   "metadata": {},
   "source": [
    "\\begin{eqnarray*}\n",
    "x ^ 2 +( a ^2 + a)x + a -1 = 0 \\\\\n",
    "x + 3 = 0\n",
    "\\end{eqnarray*}"
   ]
  },
  {
   "cell_type": "markdown",
   "metadata": {},
   "source": [
    "$\n",
    "\\begin{align*}\n",
    "(-3)^ 2 +( a ^2 + a)(-3) + a -1 = 0 \\\\\n",
    "9 - 3(a ^2 + a ) + a -1 = 0 \\\\\n",
    "- 3 a ^2 -3a + a  + 8 = 0 \\\\\n",
    "- 3 a ^2 -2a + 8 = 0 \\\\\n",
    "3a ^ 2 + 2a  - 8 = 0\n",
    "\\end{align*}\n",
    "$"
   ]
  },
  {
   "cell_type": "markdown",
   "metadata": {},
   "source": [
    "\\begin{equation*}\n",
    "x = \\frac{-b\\pm{\\sqrt{b^2 - 4ac}}}{2a}\n",
    "\\end{equation*}"
   ]
  },
  {
   "cell_type": "markdown",
   "metadata": {},
   "source": [
    "$\n",
    "\\begin{align}\n",
    "x & = \\frac{-2\\pm{\\sqrt{(2)^2 - 4(3\\times{ -8})}}}{2\\times{3}}　 \\\\\n",
    "  & = \\frac{-2\\pm{\\sqrt{4 + 4 \\times{ 24}}}}{6} \\\\\n",
    "  & = \\frac{-2\\pm{2\\sqrt{1+24}}}{6} \\\\\n",
    "  & = \\frac{-2\\pm{10}}{6} \\\\\n",
    "  & = \\frac{-12, 8}{6} \\\\\n",
    "  & = -2, \\frac{4}{3}\n",
    "\\end{align}\n",
    "$"
   ]
  },
  {
   "cell_type": "code",
   "execution_count": null,
   "metadata": {},
   "outputs": [],
   "source": []
  }
 ],
 "metadata": {
  "kernelspec": {
   "display_name": "Python 3",
   "language": "python",
   "name": "python3"
  },
  "language_info": {
   "codemirror_mode": {
    "name": "ipython",
    "version": 3
   },
   "file_extension": ".py",
   "mimetype": "text/x-python",
   "name": "python",
   "nbconvert_exporter": "python",
   "pygments_lexer": "ipython3",
   "version": "3.6.5"
  }
 },
 "nbformat": 4,
 "nbformat_minor": 2
}
