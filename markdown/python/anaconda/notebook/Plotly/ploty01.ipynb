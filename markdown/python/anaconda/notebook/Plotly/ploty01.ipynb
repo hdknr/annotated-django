{
 "cells": [
  {
   "cell_type": "markdown",
   "metadata": {},
   "source": [
    "[[Python] Plotlyでぐりぐり動かせるグラフを作る - Qiita](https://qiita.com/inoory/items/12028af62018bf367722)\n"
   ]
  },
  {
   "cell_type": "markdown",
   "metadata": {},
   "source": [
    "~~~bash \n",
    "$ pip install plotly\n",
    "~~~"
   ]
  },
  {
   "cell_type": "code",
   "execution_count": null,
   "metadata": {},
   "outputs": [],
   "source": [
    "import pandas as pd\n",
    "raw = pd.read_csv(\"birth.csv\")"
   ]
  },
  {
   "cell_type": "code",
   "execution_count": null,
   "metadata": {},
   "outputs": [],
   "source": [
    "import plotly\n",
    "plotly.offline.init_notebook_mode(connected=False)"
   ]
  },
  {
   "cell_type": "code",
   "execution_count": 15,
   "metadata": {},
   "outputs": [
    {
     "name": "stdout",
     "output_type": "stream",
     "text": [
      "0     1190547\n",
      "1     1170662\n",
      "2     1153855\n",
      "3     1123610\n",
      "4     1110721\n",
      "5     1062530\n",
      "6     1092674\n",
      "7     1089818\n",
      "8     1091156\n",
      "9     1070035\n",
      "10    1071304\n",
      "11    1050806\n",
      "12    1037101\n",
      "13    1029816\n",
      "14    1003532\n",
      "15    1005656\n",
      "Name: bitrhs, dtype: int64 0     2000\n",
      "1     2001\n",
      "2     2002\n",
      "3     2003\n",
      "4     2004\n",
      "5     2005\n",
      "6     2006\n",
      "7     2007\n",
      "8     2008\n",
      "9     2009\n",
      "10    2010\n",
      "11    2011\n",
      "12    2012\n",
      "13    2013\n",
      "14    2014\n",
      "15    2015\n",
      "Name: year, dtype: int64 0     1.36\n",
      "1     1.33\n",
      "2     1.32\n",
      "3     1.29\n",
      "4     1.29\n",
      "5     1.26\n",
      "6     1.32\n",
      "7     1.34\n",
      "8     1.37\n",
      "9     1.37\n",
      "10    1.39\n",
      "11    1.39\n",
      "12    1.41\n",
      "13    1.43\n",
      "14    1.42\n",
      "15    1.46\n",
      "Name: birth rate, dtype: float64\n"
     ]
    }
   ],
   "source": [
    "print(raw['bitrhs'], raw['year'], raw['birth rate'])"
   ]
  },
  {
   "cell_type": "code",
   "execution_count": 17,
   "metadata": {},
   "outputs": [],
   "source": [
    "data = [\n",
    "    plotly.graph_objs.Bar(x=raw[\"year\"], y=raw[\"bitrhs\"], name=\"Births\"),\n",
    "    plotly.graph_objs.Scatter(x=raw[\"year\"], y=raw[\"birth rate\"], name=\"Birth Rate\", yaxis=\"y2\")\n",
    "]"
   ]
  },
  {
   "cell_type": "code",
   "execution_count": 18,
   "metadata": {},
   "outputs": [],
   "source": [
    "layout = plotly.graph_objs.Layout(\n",
    "    title=\"Births and Birth Rate in Japan\",\n",
    "    legend={\"x\":0.8, \"y\":0.1},\n",
    "    xaxis={\"title\":\"Year\"},\n",
    "    yaxis={\"title\":\"Births\"},\n",
    "    yaxis2={\"title\":\"Birth Rate\", \"overlaying\":\"y\", \"side\":\"right\"},\n",
    ")"
   ]
  },
  {
   "cell_type": "code",
   "execution_count": null,
   "metadata": {},
   "outputs": [],
   "source": [
    "fig = plotly.graph_objs.Figure(data=data, layout=layout)\n",
    "plotly.offline.iplot(fig)"
   ]
  },
  {
   "cell_type": "code",
   "execution_count": 21,
   "metadata": {},
   "outputs": [
    {
     "data": {
      "text/plain": [
       "'file:///Users/hide/Documents/Tech/annotated-django/samples/django-history/web/notebooks/Plotly/temp-plot.html'"
      ]
     },
     "execution_count": 21,
     "metadata": {},
     "output_type": "execute_result"
    }
   ],
   "source": [
    "plotly.offline.plot(fig)"
   ]
  },
  {
   "cell_type": "code",
   "execution_count": null,
   "metadata": {},
   "outputs": [],
   "source": []
  }
 ],
 "metadata": {
  "kernelspec": {
   "display_name": "Django Shell-Plus",
   "language": "python",
   "name": "django_extensions"
  },
  "language_info": {
   "codemirror_mode": {
    "name": "ipython",
    "version": 3
   },
   "file_extension": ".py",
   "mimetype": "text/x-python",
   "name": "python",
   "nbconvert_exporter": "python",
   "pygments_lexer": "ipython3",
   "version": "3.6.5"
  }
 },
 "nbformat": 4,
 "nbformat_minor": 2
}
